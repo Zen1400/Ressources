{
 "cells": [
  {
   "cell_type": "code",
   "execution_count": 2,
   "id": "2cbd5802",
   "metadata": {},
   "outputs": [],
   "source": [
    "import numpy as np\n",
    "import matplotlib.pyplot as plt\n",
    "from sklearn.linear_model import LinearRegression, RANSACRegressor\n",
    "from sklearn.metrics import mean_squared_error, r2_score"
   ]
  },
  {
   "cell_type": "markdown",
   "id": "0c916e62",
   "metadata": {},
   "source": [
    "# Generate the data\n",
    "\n",
    "- One feature X\n",
    "\n",
    "\n",
    "- True parameters of Linear Regressions (slope & intercept). \n",
    "\n",
    "\n",
    "- Using a Uniform distribution to generate data, all values between the distribution's limits have the same probability.\n",
    "\n",
    "\n",
    "- Add a little noise to the target (so, it's not a perfect relationship)\n",
    "\n"
   ]
  },
  {
   "cell_type": "code",
   "execution_count": 23,
   "id": "e38f5eb4",
   "metadata": {},
   "outputs": [],
   "source": [
    "# 1. Generate synthetic data with outliers ()\n",
    "np.random.seed(42)\n",
    "\n",
    "# True parameters\n",
    "true_slope = 2.0\n",
    "true_intercept = 5.0\n",
    "n_samples = 200\n",
    "outlier_ratio = 0.25  # 25% outliers\n",
    "\n",
    "# Generate inlier data\n",
    "x = np.random.uniform(0, 10, n_samples)\n",
    "y_clean = true_slope * x + true_intercept\n",
    "noise = np.random.normal(0, 2, n_samples)  # Add Gaussian noise\n",
    "y = y_clean + noise"
   ]
  },
  {
   "cell_type": "code",
   "execution_count": 7,
   "id": "86ef0104",
   "metadata": {},
   "outputs": [
    {
     "data": {
      "text/plain": [
       "(4.840062332666162,\n",
       " 4.944862532378305,\n",
       " 2.9415327874965107,\n",
       " 0.05522117123602399,\n",
       " 9.868869366005173)"
      ]
     },
     "execution_count": 7,
     "metadata": {},
     "output_type": "execute_result"
    }
   ],
   "source": [
    "np.mean(x), np.median(x), np.std(x), np.min(x), np.max(x)"
   ]
  },
  {
   "cell_type": "code",
   "execution_count": 8,
   "id": "cc58002d",
   "metadata": {},
   "outputs": [
    {
     "data": {
      "text/plain": [
       "(14.81495319998503,\n",
       " 14.287804704699045,\n",
       " 6.148777096053468,\n",
       " 2.986614626211813,\n",
       " 27.268338873788863)"
      ]
     },
     "execution_count": 8,
     "metadata": {},
     "output_type": "execute_result"
    }
   ],
   "source": [
    "# Target before adding Outliers\n",
    "\n",
    "np.mean(y), np.median(y), np.std(y), np.min(y), np.max(y)"
   ]
  },
  {
   "cell_type": "code",
   "execution_count": 11,
   "id": "a849a6a0",
   "metadata": {},
   "outputs": [
    {
     "data": {
      "text/plain": [
       "200"
      ]
     },
     "execution_count": 11,
     "metadata": {},
     "output_type": "execute_result"
    }
   ],
   "source": [
    "len(y)"
   ]
  },
  {
   "cell_type": "markdown",
   "id": "c188ae2b",
   "metadata": {},
   "source": [
    "# Add Outliers\n",
    "\n",
    "\n",
    "- Uniform distribution that adds values between -25 and 25 to the target y "
   ]
  },
  {
   "cell_type": "code",
   "execution_count": 24,
   "id": "7a8ba41c",
   "metadata": {},
   "outputs": [],
   "source": [
    "# Add outliers\n",
    "n_outliers = int(n_samples * outlier_ratio)\n",
    "outlier_indices = np.random.choice(n_samples, n_outliers, replace=False)\n",
    "y[outlier_indices] += np.random.uniform(-45, 45, n_outliers)  # Add large noise"
   ]
  },
  {
   "cell_type": "code",
   "execution_count": 13,
   "id": "9c75e55d",
   "metadata": {},
   "outputs": [
    {
     "data": {
      "text/plain": [
       "(13.470564504396469,\n",
       " 13.172623115440594,\n",
       " 9.326897140508239,\n",
       " -14.491500918104144,\n",
       " 44.00515755951508)"
      ]
     },
     "execution_count": 13,
     "metadata": {},
     "output_type": "execute_result"
    }
   ],
   "source": [
    "# Target after adding Outliers\n",
    "\n",
    "np.mean(y), np.median(y), np.std(y), np.min(y), np.max(y)"
   ]
  },
  {
   "cell_type": "code",
   "execution_count": 16,
   "id": "dfb2404c",
   "metadata": {},
   "outputs": [
    {
     "data": {
      "text/plain": [
       "(200,)"
      ]
     },
     "execution_count": 16,
     "metadata": {},
     "output_type": "execute_result"
    }
   ],
   "source": [
    "x.shape"
   ]
  },
  {
   "cell_type": "markdown",
   "id": "c2c6d194",
   "metadata": {},
   "source": [
    "## Sklearn expects X to be two dimensional "
   ]
  },
  {
   "cell_type": "code",
   "execution_count": 25,
   "id": "bdd8fc90",
   "metadata": {},
   "outputs": [
    {
     "data": {
      "text/plain": [
       "(200, 1)"
      ]
     },
     "execution_count": 25,
     "metadata": {},
     "output_type": "execute_result"
    }
   ],
   "source": [
    "# Reshape x for sklearn\n",
    "X = x.reshape(-1, 1)\n",
    "\n",
    "X.shape"
   ]
  },
  {
   "cell_type": "code",
   "execution_count": 19,
   "id": "bb841035",
   "metadata": {},
   "outputs": [
    {
     "data": {
      "text/plain": [
       "array([[3.74540119],\n",
       "       [9.50714306],\n",
       "       [7.31993942],\n",
       "       [5.98658484],\n",
       "       [1.5601864 ],\n",
       "       [1.5599452 ],\n",
       "       [0.58083612],\n",
       "       [8.66176146],\n",
       "       [6.01115012],\n",
       "       [7.08072578],\n",
       "       [0.20584494],\n",
       "       [9.69909852],\n",
       "       [8.32442641],\n",
       "       [2.12339111],\n",
       "       [1.81824967],\n",
       "       [1.8340451 ],\n",
       "       [3.04242243],\n",
       "       [5.24756432],\n",
       "       [4.31945019],\n",
       "       [2.9122914 ],\n",
       "       [6.11852895],\n",
       "       [1.39493861],\n",
       "       [2.92144649],\n",
       "       [3.66361843],\n",
       "       [4.56069984],\n",
       "       [7.85175961],\n",
       "       [1.99673782],\n",
       "       [5.14234438],\n",
       "       [5.92414569],\n",
       "       [0.46450413],\n",
       "       [6.07544852],\n",
       "       [1.70524124],\n",
       "       [0.65051593],\n",
       "       [9.48885537],\n",
       "       [9.65632033],\n",
       "       [8.08397348],\n",
       "       [3.04613769],\n",
       "       [0.97672114],\n",
       "       [6.84233027],\n",
       "       [4.40152494],\n",
       "       [1.22038235],\n",
       "       [4.9517691 ],\n",
       "       [0.34388521],\n",
       "       [9.09320402],\n",
       "       [2.58779982],\n",
       "       [6.62522284],\n",
       "       [3.11711076],\n",
       "       [5.20068021],\n",
       "       [5.46710279],\n",
       "       [1.84854456],\n",
       "       [9.69584628],\n",
       "       [7.75132823],\n",
       "       [9.39498942],\n",
       "       [8.9482735 ],\n",
       "       [5.97899979],\n",
       "       [9.21874235],\n",
       "       [0.88492502],\n",
       "       [1.95982862],\n",
       "       [0.45227289],\n",
       "       [3.25330331],\n",
       "       [3.8867729 ],\n",
       "       [2.71349032],\n",
       "       [8.28737509],\n",
       "       [3.56753327],\n",
       "       [2.8093451 ],\n",
       "       [5.42696083],\n",
       "       [1.40924225],\n",
       "       [8.02196981],\n",
       "       [0.74550644],\n",
       "       [9.86886937],\n",
       "       [7.72244769],\n",
       "       [1.98715682],\n",
       "       [0.05522117],\n",
       "       [8.15461428],\n",
       "       [7.06857344],\n",
       "       [7.29007168],\n",
       "       [7.71270347],\n",
       "       [0.74044652],\n",
       "       [3.58465729],\n",
       "       [1.1586906 ],\n",
       "       [8.63103426],\n",
       "       [6.23298127],\n",
       "       [3.30898025],\n",
       "       [0.6355835 ],\n",
       "       [3.10982322],\n",
       "       [3.25183322],\n",
       "       [7.29606178],\n",
       "       [6.37557471],\n",
       "       [8.87212743],\n",
       "       [4.72214925],\n",
       "       [1.19594246],\n",
       "       [7.13244787],\n",
       "       [7.60785049],\n",
       "       [5.61277198],\n",
       "       [7.7096718 ],\n",
       "       [4.93795596],\n",
       "       [5.22732829],\n",
       "       [4.27541018],\n",
       "       [0.25419127],\n",
       "       [1.07891427],\n",
       "       [0.31429186],\n",
       "       [6.36410411],\n",
       "       [3.14355981],\n",
       "       [5.08570691],\n",
       "       [9.07566474],\n",
       "       [2.49292229],\n",
       "       [4.10382923],\n",
       "       [7.55551139],\n",
       "       [2.28798165],\n",
       "       [0.7697991 ],\n",
       "       [2.89751453],\n",
       "       [1.61221287],\n",
       "       [9.29697652],\n",
       "       [8.0812038 ],\n",
       "       [6.33403757],\n",
       "       [8.7146059 ],\n",
       "       [8.03672077],\n",
       "       [1.86570059],\n",
       "       [8.92558998],\n",
       "       [5.39342242],\n",
       "       [8.07440155],\n",
       "       [8.960913  ],\n",
       "       [3.18003475],\n",
       "       [1.10051925],\n",
       "       [2.27935163],\n",
       "       [4.27107789],\n",
       "       [8.18014766],\n",
       "       [8.60730583],\n",
       "       [0.06952131],\n",
       "       [5.10747303],\n",
       "       [4.17411003],\n",
       "       [2.2210781 ],\n",
       "       [1.19865367],\n",
       "       [3.37615171],\n",
       "       [9.42909704],\n",
       "       [3.23202932],\n",
       "       [5.18790622],\n",
       "       [7.03018959],\n",
       "       [3.63629602],\n",
       "       [9.71782083],\n",
       "       [9.62447295],\n",
       "       [2.51782296],\n",
       "       [4.97248506],\n",
       "       [3.0087831 ],\n",
       "       [2.84840494],\n",
       "       [0.36886947],\n",
       "       [6.09564334],\n",
       "       [5.02679023],\n",
       "       [0.51478751],\n",
       "       [2.78646464],\n",
       "       [9.08265886],\n",
       "       [2.39561891],\n",
       "       [1.44894872],\n",
       "       [4.8945276 ],\n",
       "       [9.85650454],\n",
       "       [2.42055272],\n",
       "       [6.72135547],\n",
       "       [7.61619615],\n",
       "       [2.37637544],\n",
       "       [7.28216349],\n",
       "       [3.67783133],\n",
       "       [6.32305831],\n",
       "       [6.33529711],\n",
       "       [5.35774684],\n",
       "       [0.9028977 ],\n",
       "       [8.35302496],\n",
       "       [3.20780065],\n",
       "       [1.8651851 ],\n",
       "       [0.40775142],\n",
       "       [5.90892943],\n",
       "       [6.77564362],\n",
       "       [0.16587829],\n",
       "       [5.12093058],\n",
       "       [2.26495775],\n",
       "       [6.4517279 ],\n",
       "       [1.74366429],\n",
       "       [6.90937738],\n",
       "       [3.86735346],\n",
       "       [9.36729989],\n",
       "       [1.37520944],\n",
       "       [3.41066351],\n",
       "       [1.13473521],\n",
       "       [9.24693618],\n",
       "       [8.77339353],\n",
       "       [2.57941628],\n",
       "       [6.59984046],\n",
       "       [8.172222  ],\n",
       "       [5.55200812],\n",
       "       [5.29650578],\n",
       "       [2.41852291],\n",
       "       [0.93102768],\n",
       "       [8.97215758],\n",
       "       [9.00418057],\n",
       "       [6.33101457],\n",
       "       [3.39029791],\n",
       "       [3.49209575],\n",
       "       [7.25955679],\n",
       "       [8.9711026 ],\n",
       "       [8.87086424],\n",
       "       [7.79875546]])"
      ]
     },
     "execution_count": 19,
     "metadata": {},
     "output_type": "execute_result"
    }
   ],
   "source": [
    "X"
   ]
  },
  {
   "cell_type": "markdown",
   "id": "c8022260",
   "metadata": {},
   "source": [
    "# Fit both models (OLS, RANSAC)"
   ]
  },
  {
   "cell_type": "code",
   "execution_count": 26,
   "id": "9eb572b2",
   "metadata": {},
   "outputs": [],
   "source": [
    "# 2. Fit models\n",
    "# Classical Linear Regression\n",
    "lr = LinearRegression()\n",
    "lr.fit(X, y)\n",
    "y_pred_lr = lr.predict(X)\n",
    "\n",
    "\n",
    "# RANSAC Regression\n",
    "ransac = RANSACRegressor(residual_threshold=7.0, random_state=42)\n",
    "ransac.fit(X, y)\n",
    "y_pred_ransac = ransac.predict(X)"
   ]
  },
  {
   "cell_type": "code",
   "execution_count": 27,
   "id": "bb0debe1",
   "metadata": {},
   "outputs": [
    {
     "data": {
      "image/png": "[encoded data removed]",
      "text/plain": [
       "<Figure size 1200x600 with 1 Axes>"
      ]
     },
     "metadata": {},
     "output_type": "display_data"
    },
    {
     "name": "stdout",
     "output_type": "stream",
     "text": [
      "Classical Linear Regression:\n",
      "MSE: 164.74, R²: 0.17\n",
      "Slope: 1.95, Intercept: 2.96\n",
      "\n",
      "RANSAC Regression:\n",
      "MSE: 171.10, R²: 0.13\n",
      "Slope: 1.93, Intercept: 5.57\n",
      "\n"
     ]
    }
   ],
   "source": [
    "\n",
    "\n",
    "\n",
    "\n",
    "# 3. Calculate metrics\n",
    "mse_lr = mean_squared_error(y, y_pred_lr)\n",
    "mse_ransac = mean_squared_error(y, y_pred_ransac)\n",
    "r2_lr = r2_score(y, y_pred_lr)\n",
    "r2_ransac = r2_score(y, y_pred_ransac)\n",
    "\n",
    "# 4. Visualize results\n",
    "plt.figure(figsize=(12, 6))\n",
    "\n",
    "# Plot inliers and outliers\n",
    "inlier_mask = np.ones_like(y, dtype=bool)\n",
    "inlier_mask[outlier_indices] = False\n",
    "plt.scatter(x[inlier_mask], y[inlier_mask], c='b', label='Inliers')\n",
    "plt.scatter(x[outlier_indices], y[outlier_indices], c='r', label='Outliers')\n",
    "\n",
    "# Plot true line\n",
    "x_vals = np.array([0, 10])\n",
    "y_true = true_slope * x_vals + true_intercept\n",
    "plt.plot(x_vals, y_true, 'g--', label='True Relationship')\n",
    "\n",
    "# Plot regression lines\n",
    "plt.plot(x_vals, lr.predict(x_vals.reshape(-1, 1)), 'orange', label='Linear Regression')\n",
    "plt.plot(x_vals, ransac.predict(x_vals.reshape(-1, 1)), 'k', label='RANSAC')\n",
    "\n",
    "plt.legend()\n",
    "plt.title('Comparison of Regression Models')\n",
    "plt.xlabel('X')\n",
    "plt.ylabel('Y')\n",
    "plt.show()\n",
    "\n",
    "# 5. Print metrics and explanations\n",
    "print(f\"Classical Linear Regression:\")\n",
    "print(f\"MSE: {mse_lr:.2f}, R²: {r2_lr:.2f}\")\n",
    "print(f\"Slope: {lr.coef_[0]:.2f}, Intercept: {lr.intercept_:.2f}\\n\")\n",
    "\n",
    "print(f\"RANSAC Regression:\")\n",
    "print(f\"MSE: {mse_ransac:.2f}, R²: {r2_ransac:.2f}\")\n",
    "print(f\"Slope: {ransac.estimator_.coef_[0]:.2f}, Intercept: {ransac.estimator_.intercept_:.2f}\\n\")"
   ]
  },
  {
   "cell_type": "code",
   "execution_count": null,
   "id": "8f9c28c8",
   "metadata": {},
   "outputs": [],
   "source": []
  }
 ],
 "metadata": {
  "kernelspec": {
   "display_name": "Python 3 (ipykernel)",
   "language": "python",
   "name": "python3"
  },
  "language_info": {
   "codemirror_mode": {
    "name": "ipython",
    "version": 3
   },
   "file_extension": ".py",
   "mimetype": "text/x-python",
   "name": "python",
   "nbconvert_exporter": "python",
   "pygments_lexer": "ipython3",
   "version": "3.10.6"
  },
  "toc": {
   "base_numbering": 1,
   "nav_menu": {},
   "number_sections": true,
   "sideBar": true,
   "skip_h1_title": false,
   "title_cell": "Table of Contents",
   "title_sidebar": "Contents",
   "toc_cell": false,
   "toc_position": {},
   "toc_section_display": true,
   "toc_window_display": false
  }
 },
 "nbformat": 4,
 "nbformat_minor": 5
}
